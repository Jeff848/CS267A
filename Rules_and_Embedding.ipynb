{
 "cells": [
  {
   "attachments": {},
   "cell_type": "markdown",
   "metadata": {},
   "source": [
    "Take sample from KG file. "
   ]
  },
  {
   "cell_type": "code",
   "execution_count": 6,
   "metadata": {},
   "outputs": [],
   "source": [
    "import pandas as pd\n",
    "import random\n",
    "\n",
    "# Load the TSV file\n",
    "df = pd.read_csv('drkg.tsv', sep='\\t')\n",
    "\n",
    "# Check if there are at least 10,000 records\n",
    "if len(df) < 10000:\n",
    "    print(\"The file has fewer than 10,000 records.\")\n",
    "else:\n",
    "    # Randomly select 10,000 records\n",
    "    df_sample = df.sample(n=10000, random_state=random.randint(1, 100))\n",
    "\n",
    "    # Save the sample to a new TSV file\n",
    "    df_sample.to_csv('sample_drkg.tsv', sep='\\t', index=False)\n"
   ]
  },
  {
   "attachments": {},
   "cell_type": "markdown",
   "metadata": {},
   "source": [
    "Adding rules to KG"
   ]
  },
  {
   "cell_type": "code",
   "execution_count": 7,
   "metadata": {},
   "outputs": [],
   "source": [
    "import pandas as pd\n",
    "\n",
    "# Define your rules\n",
    "rules = {\n",
    "    \"DRUGBANK::target::Compound:Gene\": \"bioarx::DrugHumGen:Compound:Gene\",\n",
    "    \"DRUGBANK::carrier::Compound:Gene\": \"bioarx::DrugHumGen:Compound:Gene\",\n",
    "    \"DRUGBANK::enzyme::Compound:Gene\": \"Hetionet::CbG::Compound:Gene\",\n",
    "    \"DRUGBANK::enzyme::Compound:Gene\": \"bioarx::DrugHumGen:Compound:Gene\",\n",
    "    \"Hetionet::CbG::Compound:Gene\": \"bioarx::DrugHumGen:Compound:Gene\",\n",
    "    \"GNBR::V+::Gene:Gene\": \"GNBR::V+::Gene:Gene\",\n",
    "    \"GNBR::I::Gene:Gene\": \"GNBR::I::Gene:Gene\",\n",
    "    \"GNBR::Rg::Gene:Gene\": \"GNBR::Rg::Gene:Gene\",\n",
    "    \"STRING::EXPRESSION::Gene:Gene\": \"STRING::EXPRESSION::Gene:Gene\",\n",
    "    # Add all other rules\n",
    "}\n",
    "\n",
    "# Read the triples from the file\n",
    "df = pd.read_csv('sample_drkg.tsv', sep='\\t', header=None, names=['head', 'relation', 'tail'])\n",
    "\n",
    "# Apply the rules to generate new triples\n",
    "new_triples = []\n",
    "for idx, row in df.iterrows():\n",
    "    if row['relation'] in rules:\n",
    "        new_relation = rules[row['relation']]\n",
    "        new_triples.append([row['head'], new_relation, row['tail']])\n",
    "\n",
    "# Convert the list of new triples to a DataFrame and concatenate it with the original DataFrame\n",
    "new_triples_df = pd.DataFrame(new_triples, columns=['head', 'relation', 'tail'])\n",
    "df = pd.concat([df, new_triples_df])\n",
    "\n",
    "\n"
   ]
  },
  {
   "attachments": {},
   "cell_type": "markdown",
   "metadata": {},
   "source": [
    "TransE + Rules"
   ]
  },
  {
   "cell_type": "code",
   "execution_count": 9,
   "metadata": {},
   "outputs": [
    {
     "name": "stderr",
     "output_type": "stream",
     "text": [
      "WARNING:pykeen.utils:No cuda devices were available. The model runs on CPU\n",
      "INFO:pykeen.pipeline.api:Using device: cuda\n",
      "Training epochs on cpu: 100%|██████████| 100/100 [00:24<00:00,  4.09epoch/s, loss=0.00604, prev_loss=0.00456]\n",
      "INFO:pykeen.evaluation.evaluator:Currently automatic memory optimization only supports GPUs, but you're using a CPU. Therefore, the batch_size will be set to the default value.\n",
      "INFO:pykeen.evaluation.evaluator:No evaluation batch_size provided. Setting batch_size to '32'.\n",
      "Evaluating on cpu: 100%|██████████| 10.1k/10.1k [00:40<00:00, 250triple/s]\n",
      "INFO:pykeen.evaluation.evaluator:Evaluation took 40.37s seconds\n"
     ]
    },
    {
     "name": "stdout",
     "output_type": "stream",
     "text": [
      "TransE(\n",
      "  (loss): MarginRankingLoss(\n",
      "    (margin_activation): ReLU()\n",
      "  )\n",
      "  (interaction): TransEInteraction()\n",
      "  (entity_representations): ModuleList(\n",
      "    (0): Embedding(\n",
      "      (_embeddings): Embedding(10842, 50)\n",
      "    )\n",
      "  )\n",
      "  (relation_representations): ModuleList(\n",
      "    (0): Embedding(\n",
      "      (_embeddings): Embedding(87, 50)\n",
      "    )\n",
      "  )\n",
      "  (weight_regularizers): ModuleList()\n",
      ")\n"
     ]
    }
   ],
   "source": [
    "import torch\n",
    "from pykeen.models import TransE\n",
    "from pykeen.triples import TriplesFactory\n",
    "from pykeen.pipeline import pipeline\n",
    "\n",
    "# Create a triples factory from the DataFrame\n",
    "triples_factory = TriplesFactory.from_labeled_triples(df.values)\n",
    "\n",
    "# Train the model using the stochastic local closed world assumption training approach\n",
    "result = pipeline(\n",
    "    model=TransE,\n",
    "    training=triples_factory,\n",
    "    testing=triples_factory,  # Here we're testing on the training set, but you should split your data\n",
    "    model_kwargs=dict(embedding_dim=50),  # Choose this carefully\n",
    "    training_kwargs=dict(num_epochs=100),  # Choose this carefully\n",
    "    random_seed=1234,\n",
    "    device='cuda',  # use 'cuda' for GPU\n",
    ")\n",
    "\n",
    "# After training, the model's embeddings can be accessed with\n",
    "model = result.model\n",
    "print(model)"
   ]
  },
  {
   "cell_type": "code",
   "execution_count": 11,
   "metadata": {},
   "outputs": [
    {
     "name": "stdout",
     "output_type": "stream",
     "text": [
      "TransE(\n",
      "  (loss): MarginRankingLoss(\n",
      "    (margin_activation): ReLU()\n",
      "  )\n",
      "  (interaction): TransEInteraction()\n",
      "  (entity_representations): ModuleList(\n",
      "    (0): Embedding(\n",
      "      (_embeddings): Embedding(10842, 50)\n",
      "    )\n",
      "  )\n",
      "  (relation_representations): ModuleList(\n",
      "    (0): Embedding(\n",
      "      (_embeddings): Embedding(87, 50)\n",
      "    )\n",
      "  )\n",
      "  (weight_regularizers): ModuleList()\n",
      ")\n"
     ]
    }
   ],
   "source": [
    "print(model)\n"
   ]
  },
  {
   "attachments": {},
   "cell_type": "markdown",
   "metadata": {},
   "source": [
    "TransE (no rules)"
   ]
  },
  {
   "cell_type": "code",
   "execution_count": 13,
   "metadata": {},
   "outputs": [
    {
     "name": "stderr",
     "output_type": "stream",
     "text": [
      "WARNING:pykeen.utils:No cuda devices were available. The model runs on CPU\n",
      "INFO:pykeen.pipeline.api:Using device: cuda\n",
      "Training epochs on cpu: 100%|██████████| 100/100 [00:22<00:00,  4.47epoch/s, loss=0.00547, prev_loss=0.00586]\n",
      "INFO:pykeen.evaluation.evaluator:Currently automatic memory optimization only supports GPUs, but you're using a CPU. Therefore, the batch_size will be set to the default value.\n",
      "INFO:pykeen.evaluation.evaluator:No evaluation batch_size provided. Setting batch_size to '32'.\n",
      "Evaluating on cpu: 100%|██████████| 10.0k/10.0k [00:40<00:00, 248triple/s]\n",
      "INFO:pykeen.evaluation.evaluator:Evaluation took 40.36s seconds\n"
     ]
    },
    {
     "name": "stdout",
     "output_type": "stream",
     "text": [
      "TransE(\n",
      "  (loss): MarginRankingLoss(\n",
      "    (margin_activation): ReLU()\n",
      "  )\n",
      "  (interaction): TransEInteraction()\n",
      "  (entity_representations): ModuleList(\n",
      "    (0): Embedding(\n",
      "      (_embeddings): Embedding(10842, 50)\n",
      "    )\n",
      "  )\n",
      "  (relation_representations): ModuleList(\n",
      "    (0): Embedding(\n",
      "      (_embeddings): Embedding(87, 50)\n",
      "    )\n",
      "  )\n",
      "  (weight_regularizers): ModuleList()\n",
      ")\n"
     ]
    }
   ],
   "source": [
    "# Read the triples from the file\n",
    "df = pd.read_csv('sample_drkg.tsv', sep='\\t', header=None, names=['head', 'relation', 'tail'])\n",
    "\n",
    "# Create a triples factory from the DataFrame\n",
    "triples_factory = TriplesFactory.from_labeled_triples(df.values)\n",
    "\n",
    "# Train the model using the stochastic local closed world assumption training approach\n",
    "result = pipeline(\n",
    "    model=TransE,\n",
    "    training=triples_factory,\n",
    "    testing=triples_factory,  # Here we're testing on the training set, but you should split your data\n",
    "    model_kwargs=dict(embedding_dim=50),  # Choose this carefully\n",
    "    training_kwargs=dict(num_epochs=100),  # Choose this carefully\n",
    "    random_seed=1234,\n",
    "    device='cuda',  # use 'cuda' for GPU\n",
    ")\n",
    "\n",
    "# After training, the model's embeddings can be accessed with\n",
    "model_B = result.model\n",
    "print(model_B)"
   ]
  },
  {
   "cell_type": "code",
   "execution_count": 14,
   "metadata": {},
   "outputs": [
    {
     "name": "stdout",
     "output_type": "stream",
     "text": [
      "TransE(\n",
      "  (loss): MarginRankingLoss(\n",
      "    (margin_activation): ReLU()\n",
      "  )\n",
      "  (interaction): TransEInteraction()\n",
      "  (entity_representations): ModuleList(\n",
      "    (0): Embedding(\n",
      "      (_embeddings): Embedding(10842, 50)\n",
      "    )\n",
      "  )\n",
      "  (relation_representations): ModuleList(\n",
      "    (0): Embedding(\n",
      "      (_embeddings): Embedding(87, 50)\n",
      "    )\n",
      "  )\n",
      "  (weight_regularizers): ModuleList()\n",
      ")\n"
     ]
    }
   ],
   "source": [
    "print(model_B)"
   ]
  }
 ],
 "metadata": {
  "kernelspec": {
   "display_name": "base",
   "language": "python",
   "name": "python3"
  },
  "language_info": {
   "codemirror_mode": {
    "name": "ipython",
    "version": 3
   },
   "file_extension": ".py",
   "mimetype": "text/x-python",
   "name": "python",
   "nbconvert_exporter": "python",
   "pygments_lexer": "ipython3",
   "version": "3.9.7"
  },
  "orig_nbformat": 4
 },
 "nbformat": 4,
 "nbformat_minor": 2
}
